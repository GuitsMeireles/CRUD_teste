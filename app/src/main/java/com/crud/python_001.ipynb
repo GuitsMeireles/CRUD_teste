{
 "cells": [
  {
   "cell_type": "code",
   "execution_count": null,
   "metadata": {},
   "outputs": [],
   "source": [
    "Uma Classe nada mais é do que um formulario\n",
    "os valores que esse formulario recebe sao definidos pelo usuario\n",
    "sempre pensar sera a variavel sera Mutavel(var) ou Imutavel(val)\n",
    "Um Objeto eh o resultado de uma Class, eh como um container para armazenamento de dados\n",
    "e metodos para manipulacao desses dados.\n",
    "Obs: Aqui nao estamos falando da heranca, mas sim da composicao, pois a composicao\n",
    "nao tem relacoes com a heranca, porem pode ser utilizada em cenarios de heranca\n",
    "A Heranca eh quando uma classa filha herda os atributos e metodos de outra classa pai\n",
    "A Composicao eh quando uma classa filha utiliza os atributos e metodos de outra classa pai\n",
    "Ela nao precisa estar relacionada a essas classes, podendo ter qualquer coisa\n",
    "Exemplo: Um carro eh composto por rodas, baterias, motor, etc...\n",
    "Mas um carro nao herda as caracteristicas dos componentes, ele usa eles\n",
    "*/\n",
    "class Form {\n",
    "    constructor() {\n",
    "        this._name = ''; // nome do formulario\n",
    "        this._fields = []; // campos do formulario\n",
    "        this._buttons = []; // botões do formulario\n",
    "        }\n",
    "        get name(){ return this._name; }\n",
    "        set name(value){\n",
    "            if (typeof value === 'string'){\n",
    "                this._name = value;\n",
    "                } else {\n",
    "                    throw new Error('Invalid type for the name attribute');\n",
    "                    }\n",
    "                    }\n",
    "                    addField(field) {\n",
    "                        if (!this._fields.includes(field)) {\n",
    "                            this._fields.push(field);\n",
    "                            }\n",
    "                            }\n",
    "                            addButton(button) {\n",
    "                                if (!this._buttons.includes(button)){\n",
    "                                    this._buttons.push(button);\n",
    "                                    }\n",
    "                                    "
   ]
  }
 ],
 "metadata": {
  "language_info": {
   "name": "python"
  }
 },
 "nbformat": 4,
 "nbformat_minor": 2
}
